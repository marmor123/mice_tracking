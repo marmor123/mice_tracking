{
 "cells": [
  {
   "cell_type": "code",
   "execution_count": 8,
   "id": "a2b74ca4",
   "metadata": {},
   "outputs": [],
   "source": [
    "!pip install -q git+https://github.com/THU-MIG/yolov10.git\n",
    "!pip install -q supervision roboflow"
   ]
  },
  {
   "cell_type": "code",
   "execution_count": 1,
   "id": "14f09688",
   "metadata": {},
   "outputs": [
    {
     "name": "stdout",
     "output_type": "stream",
     "text": [
      "C:\\Users\\odeyam\\Documents\\YOLO_tracking\n"
     ]
    }
   ],
   "source": [
    "import os\n",
    "from IPython.display import Image\n",
    "import os\n",
    "HOME = os.getcwd()\n",
    "print(HOME)"
   ]
  },
  {
   "cell_type": "code",
   "execution_count": 2,
   "id": "443e3a1c-e063-44e3-855f-658fb96a4b7a",
   "metadata": {},
   "outputs": [
    {
     "name": "stdout",
     "output_type": "stream",
     "text": [
      "2.3.1+cu118\n",
      "0.18.1+cu118\n",
      "test\n"
     ]
    }
   ],
   "source": [
    "import torch\n",
    "import torchvision\n",
    "print(torch.__version__)\n",
    "print(torchvision.__version__)\n",
    "print('test')"
   ]
  },
  {
   "cell_type": "code",
   "execution_count": 3,
   "id": "522962c6",
   "metadata": {},
   "outputs": [
    {
     "name": "stdout",
     "output_type": "stream",
     "text": [
      "C:\\Users\\odeyam\\Documents\\YOLO_tracking\\datasets\n",
      "loading Roboflow workspace...\n",
      "loading Roboflow project...\n",
      "Dependency ultralytics==8.0.196 is required but found version=8.1.34, to fix: `pip install ultralytics==8.0.196`\n"
     ]
    },
    {
     "name": "stderr",
     "output_type": "stream",
     "text": [
      "Downloading Dataset Version Zip in colored-mice-3 to yolov8:: 100%|██████████| 51447/51447 [00:02<00:00, 19474.32it/s]"
     ]
    },
    {
     "name": "stdout",
     "output_type": "stream",
     "text": [
      "\n"
     ]
    },
    {
     "name": "stderr",
     "output_type": "stream",
     "text": [
      "\n",
      "Extracting Dataset Version Zip to colored-mice-3 in yolov8:: 100%|██████████| 1589/1589 [00:00<00:00, 3878.05it/s]\n"
     ]
    }
   ],
   "source": [
    "%cd {HOME}/datasets\n",
    "\n",
    "from roboflow import Roboflow\n",
    "rf = Roboflow(api_key=\"l1NJDVrgXz0fJnwnHfnn\")\n",
    "project = rf.workspace(\"track-colored-mice\").project(\"colored-mice\")\n",
    "version = project.version(3)\n",
    "dataset = version.download(\"yolov8\")\n",
    "                "
   ]
  },
  {
   "cell_type": "code",
   "execution_count": 4,
   "id": "15248e12",
   "metadata": {},
   "outputs": [
    {
     "name": "stdout",
     "output_type": "stream",
     "text": [
      "C:\\Users\\odeyam\\Documents\\YOLO_tracking\\datasets\\colored-mice-3\n"
     ]
    }
   ],
   "source": [
    "print(dataset.location)"
   ]
  },
  {
   "cell_type": "code",
   "execution_count": 1,
   "id": "e933bc1f",
   "metadata": {},
   "outputs": [
    {
     "name": "stdout",
     "output_type": "stream",
     "text": [
      "^C\n"
     ]
    }
   ],
   "source": [
    "!yolo task=detect mode=train epochs=1000 batch=16 plots=True verbose=True\\\n",
    "model=C:\\Users\\odeyam\\Documents\\YOLO_tracking\\weights\\yolov10m.pt \\\n",
    "data=C:\\Users\\odeyam\\Documents\\YOLO_tracking\\datasets\\colored-mice-2\\data.yaml"
   ]
  },
  {
   "cell_type": "code",
   "execution_count": null,
   "id": "a5304f03-4c0e-4809-9523-709f9696a419",
   "metadata": {},
   "outputs": [],
   "source": [
    "yolo task=detect mode=train epochs=1000 batch=-1 plots=True verbose=True cache=True workers=16 model=C:\\Users\\odeyam\\Documents\\YOLO_tracking\\best10m.pt data=C:\\Users\\odeyam\\Documents\\YOLO_tracking\\datasets\\colored-mice-3\\data.yaml"
   ]
  },
  {
   "cell_type": "code",
   "execution_count": null,
   "id": "a3a04416-f364-4943-87d8-0694cc6fed3a",
   "metadata": {},
   "outputs": [],
   "source": [
    "C:\\Users\\odeyam\\Documents\\YOLO_tracking\\datasets\\colored-mice-3"
   ]
  }
 ],
 "metadata": {
  "kernelspec": {
   "display_name": "Python 3 (ipykernel)",
   "language": "python",
   "name": "python3"
  },
  "language_info": {
   "codemirror_mode": {
    "name": "ipython",
    "version": 3
   },
   "file_extension": ".py",
   "mimetype": "text/x-python",
   "name": "python",
   "nbconvert_exporter": "python",
   "pygments_lexer": "ipython3",
   "version": "3.10.14"
  }
 },
 "nbformat": 4,
 "nbformat_minor": 5
}
